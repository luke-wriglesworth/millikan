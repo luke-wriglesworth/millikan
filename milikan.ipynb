{
 "cells": [
  {
   "cell_type": "code",
   "execution_count": null,
   "metadata": {},
   "outputs": [
    {
     "name": "stdout",
     "output_type": "stream",
     "text": [
      "[504 504 505 506 507 508 512 516 521 525 527 528 532 535 538 542 545 549\n",
      " 554 558 562 565 567 571 574 577 579 583 586 589 591 595 597 601 603 606\n",
      " 610 613 615 617 620 624 628 632 634 636 638 641 643 646 649 652 656 658\n",
      " 663 667 671 674 678 683 687 691 693 695 697 699 702 706 709 711 714 718\n",
      " 720 722 725 727 730 735 737 741 744 746 749 753 759 762 765 768 771 773\n",
      " 774 777 782 788 792 794 799 802 805 806 809 812 815 817 820 824 827 831\n",
      " 837 839 842 844 848 853 856 859 862 866 868 869 873 876 879 882 886 889\n",
      " 892 895 896 898 901 903 907 911 914 917 920 922 925 927 930 934 938 942\n",
      " 946 950 953]\n"
     ]
    },
    {
     "name": "stderr",
     "output_type": "stream",
     "text": [
      "/var/folders/7j/bs4xx7fn0qs5qbg6nsyxmczr0000gn/T/ipykernel_67914/3416195349.py:7: FutureWarning: Your version of xlrd is 1.2.0. In xlrd >= 2.0, only the xls format is supported. Install openpyxl instead.\n",
      "  test = pd.read_excel('excel_measurements/7.xlsx', engine='xlrd')\n"
     ]
    }
   ],
   "source": [
    "# !!! need to use xlrd==1.2.0, numpy==1.26.4, pandas==1.3.5 or panda won't read xlsx\n",
    "import pandas as pd\n",
    "import numpy as np\n",
    "\n",
    "measurement_numbers = np.arange(6,61)\n",
    "measurements = np.zeros(len(measurement_numbers))\n",
    "test = pd.read_excel('excel_measurements/7.xlsx', engine='xlrd')\n",
    "print(test.values[:,0])\n",
    "\n"
   ]
  },
  {
   "cell_type": "code",
   "execution_count": null,
   "metadata": {},
   "outputs": [],
   "source": []
  }
 ],
 "metadata": {
  "kernelspec": {
   "display_name": ".venv",
   "language": "python",
   "name": "python3"
  },
  "language_info": {
   "codemirror_mode": {
    "name": "ipython",
    "version": 3
   },
   "file_extension": ".py",
   "mimetype": "text/x-python",
   "name": "python",
   "nbconvert_exporter": "python",
   "pygments_lexer": "ipython3",
   "version": "3.12.7"
  }
 },
 "nbformat": 4,
 "nbformat_minor": 2
}
